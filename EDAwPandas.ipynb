{
  "nbformat": 4,
  "nbformat_minor": 0,
  "metadata": {
    "colab": {
      "provenance": [],
      "authorship_tag": "ABX9TyN68EYNEjQXI7keVj/hCCKm",
      "include_colab_link": true
    },
    "kernelspec": {
      "name": "python3",
      "display_name": "Python 3"
    },
    "language_info": {
      "name": "python"
    }
  },
  "cells": [
    {
      "cell_type": "markdown",
      "metadata": {
        "id": "view-in-github",
        "colab_type": "text"
      },
      "source": [
        "<a href=\"https://colab.research.google.com/github/jaiyeoba-1/Projects/blob/main/EDAwPandas.ipynb\" target=\"_parent\"><img src=\"https://colab.research.google.com/assets/colab-badge.svg\" alt=\"Open In Colab\"/></a>"
      ]
    },
    {
      "cell_type": "code",
      "execution_count": null,
      "metadata": {
        "id": "jrvfzHtypY9h"
      },
      "outputs": [],
      "source": [
        "import pandas as pd\n",
        "df = pd.read_csv('merged_data.csv')"
      ]
    },
    {
      "cell_type": "code",
      "source": [
        "print(df.head())  # View first five rows\n",
        "print(df.tail())  # View last five rows"
      ],
      "metadata": {
        "colab": {
          "base_uri": "https://localhost:8080/"
        },
        "id": "rSMIf9PYqUit",
        "outputId": "0c2ae8a0-fc34-4df5-84bc-2e7c4f17ebb3"
      },
      "execution_count": null,
      "outputs": [
        {
          "output_type": "stream",
          "name": "stdout",
          "text": [
            "        review_id  product_id  \\\n",
            "0  R34TTAFP8L6LLN  B0D6WB7BV6   \n",
            "1   RZM2F3FFLUDL0  B0D6WB7BV6   \n",
            "2  R20S61ZXL3M7J3  B0D6WB7BV6   \n",
            "3  R1WP53KHLAFXUC  B0D6WB7BV6   \n",
            "4  R2SUSKG5E9AHRZ  B0D6WB7BV6   \n",
            "\n",
            "                                               title                 author  \\\n",
            "0  5.0 out of 5 stars Price check; Sound quality ...   Gary J and Stephan D   \n",
            "1            5.0 out of 5 stars Great little speaker        Amazon Customer   \n",
            "2  5.0 out of 5 stars Portable, Powerful, and Bui...  Claudia janeth Jaimes   \n",
            "3  5.0 out of 5 stars Works Well in the Garage an...                 InMyHO   \n",
            "4         5.0 out of 5 stars Great product from BOSE         Lynne A. Coyle   \n",
            "\n",
            "   rating                                            content  \\\n",
            "0       5  I shopped for quite a bit to find this item at...   \n",
            "1       5  I love this speaker. It's exactly what I neede...   \n",
            "2       5  I’m thoroughly impressed with the Bose SoundLi...   \n",
            "3       5  I wasn’t expecting much from something this si...   \n",
            "4       5  You can’t go wrong with the BOSE name. I have ...   \n",
            "\n",
            "                                      timestamp                    profile_id  \\\n",
            "0  Reviewed in the United States April 26, 2025  AFX2ZUIIXGCBMX26OGNHRTNAQKFA   \n",
            "1  Reviewed in the United States April 21, 2025  AFBOWR7MHZULQ4YRPZLQY66EKUUA   \n",
            "2  Reviewed in the United States April 14, 2025  AEAITP4PL7NDNRQ5XXOUNM2YJWOQ   \n",
            "3     Reviewed in the United States May 3, 2025  AFML75XPURJQZLHSD2VDR7JCCUFQ   \n",
            "4     Reviewed in the United States May 5, 2025  AGQQJ3LWDXRT3W7OKJJ6TEB3EEAQ   \n",
            "\n",
            "   is_verified  helpful_count  product_attributes  \n",
            "0         True              4    Color: Blue Dusk  \n",
            "1         True             10  Color: Alpine Sage  \n",
            "2         True             21  Color: Alpine Sage  \n",
            "3         True              3    Color: Blue Dusk  \n",
            "4         True              4  Color: Alpine Sage  \n",
            "         review_id  product_id  \\\n",
            "30  R3R7XPH8WUAWNW  B0D4SX9RC6   \n",
            "31  R3QIKMWLNMB5LI  B0D4SX9RC6   \n",
            "32  R2923U6J7L86GD  B0D4SX9RC6   \n",
            "33  R23D1WVUET54DC  B0D4SX9RC6   \n",
            "34  R27REI9942HFBQ  B0D4SX9RC6   \n",
            "\n",
            "                                                title         author  rating  \\\n",
            "30       5.0 out of 5 stars The Kim Gray is excellent         Butter       5   \n",
            "31                      5.0 out of 5 stars No Brainer  Notorious one       5   \n",
            "32        4.0 out of 5 stars It was a grear gift idea       Lori  S.       4   \n",
            "33           5.0 out of 5 stars Best sound on the go.           Luis       5   \n",
            "34  5.0 out of 5 stars Surprising sound, unsurpris...        HDH1616       5   \n",
            "\n",
            "                                              content  \\\n",
            "30  This is a great sounding Bluetooth speaker. It...   \n",
            "31  Works great. Sounds really good for its size. ...   \n",
            "32  First know that I purchase this for my spouse ...   \n",
            "33  Easy to connect, ideal size without sacrificin...   \n",
            "34  I knew that the Beats Pill had a reputation fo...   \n",
            "\n",
            "                                         timestamp  \\\n",
            "30      Reviewed in the United States May 14, 2025   \n",
            "31      Reviewed in the United States May 14, 2025   \n",
            "32    Reviewed in the United States March 29, 2025   \n",
            "33    Reviewed in the United States April 20, 2025   \n",
            "34  Reviewed in the United States January 14, 2025   \n",
            "\n",
            "                      profile_id  is_verified  helpful_count  \\\n",
            "30  AHCHTYTJ33XPV5FFTLC6KMQ5YMJA         True              0   \n",
            "31  AEYGCNL7GGCOBFMQLTYKNSQ32IGA         True              0   \n",
            "32  AHPZRJPOOKTKPEXVOIJKLSUEO3ZA         True              2   \n",
            "33  AEADRU6YW4UB57PCGZO7BIHY46TQ         True              0   \n",
            "34  AHLGKWNHYT6S7POQZF6CSQHCVDIA         True             12   \n",
            "\n",
            "                                   product_attributes  \n",
            "30  Color: Dark Gray, Style: Pill, Set: Without Ap...  \n",
            "31  Color: Matte Black, Style: Pill, Set: Without ...  \n",
            "32  Color: Matte Black, Style: Pill, Set: Without ...  \n",
            "33  Color: Champagne Gold, Style: Pill, Set: Witho...  \n",
            "34  Color: Champagne Gold, Style: Pill, Set: Witho...  \n"
          ]
        }
      ]
    },
    {
      "cell_type": "code",
      "source": [
        "df.info()"
      ],
      "metadata": {
        "colab": {
          "base_uri": "https://localhost:8080/"
        },
        "id": "TQWgM0J1quGg",
        "outputId": "fd0b8c8e-54d6-4516-aa46-848928c1bf3a"
      },
      "execution_count": null,
      "outputs": [
        {
          "output_type": "stream",
          "name": "stdout",
          "text": [
            "<class 'pandas.core.frame.DataFrame'>\n",
            "RangeIndex: 35 entries, 0 to 34\n",
            "Data columns (total 11 columns):\n",
            " #   Column              Non-Null Count  Dtype \n",
            "---  ------              --------------  ----- \n",
            " 0   review_id           35 non-null     object\n",
            " 1   product_id          35 non-null     object\n",
            " 2   title               35 non-null     object\n",
            " 3   author              35 non-null     object\n",
            " 4   rating              35 non-null     int64 \n",
            " 5   content             35 non-null     object\n",
            " 6   timestamp           35 non-null     object\n",
            " 7   profile_id          35 non-null     object\n",
            " 8   is_verified         35 non-null     bool  \n",
            " 9   helpful_count       35 non-null     int64 \n",
            " 10  product_attributes  35 non-null     object\n",
            "dtypes: bool(1), int64(2), object(8)\n",
            "memory usage: 2.9+ KB\n"
          ]
        }
      ]
    },
    {
      "cell_type": "code",
      "source": [
        "print(\"Mean:\", df['rating'].mean())\n",
        "print(\"Median:\", df['rating'].median())\n",
        "print(\"Mode:\", df['rating'].mode()[0])\n",
        "print(\"Variance:\", df['rating'].var())\n",
        "print(\"Standard Deviation:\", df['rating'].std())"
      ],
      "metadata": {
        "colab": {
          "base_uri": "https://localhost:8080/"
        },
        "id": "aQW41X9vq9cC",
        "outputId": "09f8a900-3dcb-4254-9adc-a8f9801da51f"
      },
      "execution_count": null,
      "outputs": [
        {
          "output_type": "stream",
          "name": "stdout",
          "text": [
            "Mean: 4.914285714285715\n",
            "Median: 5.0\n",
            "Mode: 5\n",
            "Variance: 0.08067226890756303\n",
            "Standard Deviation: 0.2840286409986905\n"
          ]
        }
      ]
    },
    {
      "cell_type": "code",
      "source": [
        "missing_values = df.isnull().sum()\n",
        "print(\"Missing values:\\\\n\", missing_values)"
      ],
      "metadata": {
        "colab": {
          "base_uri": "https://localhost:8080/"
        },
        "id": "GByRn36grch0",
        "outputId": "8ea73e5b-9488-4789-ecee-24893bc18397"
      },
      "execution_count": null,
      "outputs": [
        {
          "output_type": "stream",
          "name": "stdout",
          "text": [
            "Missing values:\\n review_id             0\n",
            "product_id            0\n",
            "title                 0\n",
            "author                0\n",
            "rating                0\n",
            "content               0\n",
            "timestamp             0\n",
            "profile_id            0\n",
            "is_verified           0\n",
            "helpful_count         0\n",
            "product_attributes    0\n",
            "dtype: int64\n"
          ]
        }
      ]
    },
    {
      "cell_type": "code",
      "source": [
        "Q1 = df['rating'].quantile(0.25)\n",
        "Q3 = df['rating'].quantile(0.75)\n",
        "IQR = Q3 - Q1\n",
        "outliers = df[(df['rating'] < (Q1 - 1.5 * IQR)) | (df['rating'] > (Q3 + 1.5 * IQR))]\n",
        "print(\"Outliers:\\\\n\", outliers)"
      ],
      "metadata": {
        "colab": {
          "base_uri": "https://localhost:8080/"
        },
        "id": "r32GcTWsrnwF",
        "outputId": "a4fb945c-0e5d-4ddc-9ad3-279099f77fc9"
      },
      "execution_count": null,
      "outputs": [
        {
          "output_type": "stream",
          "name": "stdout",
          "text": [
            "Outliers:\\n          review_id  product_id  \\\n",
            "14  R1I81CO5YSUFM7  B09GJZKQ3K   \n",
            "24  R2923U6J7L86GD  B0D4SX9RC6   \n",
            "32  R2923U6J7L86GD  B0D4SX9RC6   \n",
            "\n",
            "                                                title    author  rating  \\\n",
            "14  4.0 out of 5 stars Nice speaker with overall g...     Terry       4   \n",
            "24        4.0 out of 5 stars It was a grear gift idea  Lori  S.       4   \n",
            "32        4.0 out of 5 stars It was a grear gift idea  Lori  S.       4   \n",
            "\n",
            "                                              content  \\\n",
            "14  Good overall speaker. Easy to tote around. The...   \n",
            "24  First know that I purchase this for my spouse ...   \n",
            "32  First know that I purchase this for my spouse ...   \n",
            "\n",
            "                                       timestamp  \\\n",
            "14    Reviewed in the United States June 4, 2023   \n",
            "24  Reviewed in the United States March 29, 2025   \n",
            "32  Reviewed in the United States March 29, 2025   \n",
            "\n",
            "                      profile_id  is_verified  helpful_count  \\\n",
            "14  AHGO34JJGT2DX4TFG6ZYJZVGK5EQ         True             47   \n",
            "24  AHPZRJPOOKTKPEXVOIJKLSUEO3ZA         True              2   \n",
            "32  AHPZRJPOOKTKPEXVOIJKLSUEO3ZA         True              2   \n",
            "\n",
            "                                   product_attributes  \n",
            "14                         Color: Camo, Style: Flip 6  \n",
            "24  Color: Matte Black, Style: Pill, Set: Without ...  \n",
            "32  Color: Matte Black, Style: Pill, Set: Without ...  \n"
          ]
        }
      ]
    },
    {
      "cell_type": "code",
      "source": [
        "df.to_csv('cleaned_dataset.csv', index=False)\n",
        "\n",
        "from google.colab import files\n",
        "files.download('cleaned_dataset.csv')"
      ],
      "metadata": {
        "id": "okTDIRnYsBfd",
        "outputId": "00cd777e-b482-4e01-efee-5f90bfcfc93d",
        "colab": {
          "base_uri": "https://localhost:8080/",
          "height": 17
        }
      },
      "execution_count": null,
      "outputs": [
        {
          "output_type": "display_data",
          "data": {
            "text/plain": [
              "<IPython.core.display.Javascript object>"
            ],
            "application/javascript": [
              "\n",
              "    async function download(id, filename, size) {\n",
              "      if (!google.colab.kernel.accessAllowed) {\n",
              "        return;\n",
              "      }\n",
              "      const div = document.createElement('div');\n",
              "      const label = document.createElement('label');\n",
              "      label.textContent = `Downloading \"${filename}\": `;\n",
              "      div.appendChild(label);\n",
              "      const progress = document.createElement('progress');\n",
              "      progress.max = size;\n",
              "      div.appendChild(progress);\n",
              "      document.body.appendChild(div);\n",
              "\n",
              "      const buffers = [];\n",
              "      let downloaded = 0;\n",
              "\n",
              "      const channel = await google.colab.kernel.comms.open(id);\n",
              "      // Send a message to notify the kernel that we're ready.\n",
              "      channel.send({})\n",
              "\n",
              "      for await (const message of channel.messages) {\n",
              "        // Send a message to notify the kernel that we're ready.\n",
              "        channel.send({})\n",
              "        if (message.buffers) {\n",
              "          for (const buffer of message.buffers) {\n",
              "            buffers.push(buffer);\n",
              "            downloaded += buffer.byteLength;\n",
              "            progress.value = downloaded;\n",
              "          }\n",
              "        }\n",
              "      }\n",
              "      const blob = new Blob(buffers, {type: 'application/binary'});\n",
              "      const a = document.createElement('a');\n",
              "      a.href = window.URL.createObjectURL(blob);\n",
              "      a.download = filename;\n",
              "      div.appendChild(a);\n",
              "      a.click();\n",
              "      div.remove();\n",
              "    }\n",
              "  "
            ]
          },
          "metadata": {}
        },
        {
          "output_type": "display_data",
          "data": {
            "text/plain": [
              "<IPython.core.display.Javascript object>"
            ],
            "application/javascript": [
              "download(\"download_a37fc509-145f-45ea-bbb0-6bf8ae3d3c18\", \"cleaned_dataset.csv\", 53990)"
            ]
          },
          "metadata": {}
        }
      ]
    }
  ]
}